# 🧠 PRICE TRACKER DATA ANALYSIS NOTEBOOK

import pandas as pd
import sqlite3
import matplotlib.pyplot as plt
import seaborn as sns
from app.config import DB_PATH

# 1️⃣ Load Data
conn = sqlite3.connect(DB_PATH)
df = pd.read_sql_query("SELECT * FROM prices", conn)
conn.close()
df.head()

# 2️⃣ Basic Cleaning
df["timestamp"] = pd.to_datetime(df["timestamp"])
df["price"] = df["price"].astype(float)

# 3️⃣ Overview
print("Total records:", len(df))
print("Unique products:", df['product'].nunique())

# 4️⃣ Price Trends
plt.figure(figsize=(10,5))
sns.lineplot(x="timestamp", y="price", hue="product", data=df)
plt.title("Price Trends Over Time")
plt.show()

# 5️⃣ Insights
df.groupby("product")["price"].describe()
