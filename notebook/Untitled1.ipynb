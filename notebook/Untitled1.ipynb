{
 "cells": [
  {
   "cell_type": "code",
   "execution_count": 5,
   "id": "19dde1f5-6449-4043-b22b-e646e37af92e",
   "metadata": {},
   "outputs": [
    {
     "ename": "ModuleNotFoundError",
     "evalue": "No module named 'price_track1'",
     "output_type": "error",
     "traceback": [
      "\u001b[31m---------------------------------------------------------------------------\u001b[39m",
      "\u001b[31mModuleNotFoundError\u001b[39m                       Traceback (most recent call last)",
      "\u001b[36mCell\u001b[39m\u001b[36m \u001b[39m\u001b[32mIn[5]\u001b[39m\u001b[32m, line 5\u001b[39m\n\u001b[32m      3\u001b[39m project_path = \u001b[33m\"\u001b[39m\u001b[33m/data/data/com.termux/files/home/Price_track1\u001b[39m\u001b[33m\"\u001b[39m \n\u001b[32m      4\u001b[39m sys.path.append(project_path) \u001b[38;5;66;03m# Now you can import modules \u001b[39;00m\n\u001b[32m----> \u001b[39m\u001b[32m5\u001b[39m \u001b[38;5;28;01mfrom\u001b[39;00m\u001b[38;5;250m \u001b[39m\u001b[34;01mprice_track1\u001b[39;00m\u001b[34;01m.\u001b[39;00m\u001b[34;01mapp\u001b[39;00m\u001b[38;5;250m \u001b[39m\u001b[38;5;28;01mimport\u001b[39;00m db, price_tracker \n\u001b[32m      6\u001b[39m \u001b[38;5;28;01mfrom\u001b[39;00m\u001b[38;5;250m \u001b[39m\u001b[34;01mdata\u001b[39;00m\u001b[38;5;250m \u001b[39m\u001b[38;5;28;01mimport\u001b[39;00m export_data \n",
      "\u001b[31mModuleNotFoundError\u001b[39m: No module named 'price_track1'"
     ]
    }
   ],
   "source": [
    "import sys \n",
    "import os # Add your project root \n",
    "project_path = \"/data/data/com.termux/files/home/Price_track1\" \n",
    "sys.path.append(project_path) # Now you can import modules \n",
    "from price_track1.app import db, price_tracker \n",
    "from data import export_data "
   ]
  },
  {
   "cell_type": "code",
   "execution_count": null,
   "id": "12127b7e-68bb-4074-9779-565c8aba62b6",
   "metadata": {},
   "outputs": [],
   "source": []
  },
  {
   "cell_type": "code",
   "execution_count": null,
   "id": "1f4f4559-d119-421d-86d1-2e5e2a82cd17",
   "metadata": {},
   "outputs": [],
   "source": []
  }
 ],
 "metadata": {
  "kernelspec": {
   "display_name": "Python 3 (ipykernel)",
   "language": "python",
   "name": "python3"
  },
  "language_info": {
   "codemirror_mode": {
    "name": "ipython",
    "version": 3
   },
   "file_extension": ".py",
   "mimetype": "text/x-python",
   "name": "python",
   "nbconvert_exporter": "python",
   "pygments_lexer": "ipython3",
   "version": "3.12.11"
  }
 },
 "nbformat": 4,
 "nbformat_minor": 5
}
